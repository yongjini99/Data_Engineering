{
 "cells": [
  {
   "cell_type": "code",
   "execution_count": 17,
   "id": "3d5050f7",
   "metadata": {},
   "outputs": [],
   "source": [
    "import numpy as np"
   ]
  },
  {
   "cell_type": "code",
   "execution_count": 18,
   "id": "9c7b0a00",
   "metadata": {},
   "outputs": [],
   "source": [
    "hairstyles = [\"bouffant\" , \"pixie\" , \"dreadlocks\" , \"crew\" , \n",
    "                      \"bowl\" , \"bob\" , \"mohawk\" , \"flattop\"]"
   ]
  },
  {
   "cell_type": "code",
   "execution_count": 19,
   "id": "5d2f9a38",
   "metadata": {},
   "outputs": [],
   "source": [
    "prices = [30, 25, 40, 20, 20, 35, 50, 35]"
   ]
  },
  {
   "cell_type": "code",
   "execution_count": 20,
   "id": "08f16d13",
   "metadata": {},
   "outputs": [],
   "source": [
    "last_week = [2, 3, 5, 8, 4, 4, 6, 2]"
   ]
  },
  {
   "cell_type": "code",
   "execution_count": 21,
   "id": "b9d11262",
   "metadata": {},
   "outputs": [],
   "source": [
    "# First\n",
    "total_price = 0 "
   ]
  },
  {
   "cell_type": "code",
   "execution_count": 22,
   "id": "9b3f20c5",
   "metadata": {},
   "outputs": [],
   "source": [
    "# 2~3\n",
    "for i in range(8) :\n",
    "    total_price += prices[i] # +=\n",
    "average_price = total_price / len(prices) \n",
    "# using the len() function"
   ]
  },
  {
   "cell_type": "code",
   "execution_count": 23,
   "id": "fb6375f1",
   "metadata": {},
   "outputs": [
    {
     "name": "stdout",
     "output_type": "stream",
     "text": [
      "Average price is 31.875\n"
     ]
    }
   ],
   "source": [
    "# Fourth\n",
    "\n",
    "print(\"Average price is\" , average_price)"
   ]
  },
  {
   "cell_type": "code",
   "execution_count": 24,
   "id": "cdf07984",
   "metadata": {},
   "outputs": [],
   "source": [
    "# 5\n",
    "new_prices = [prices - 5 for prices in prices]\n",
    "# for ~ in ~"
   ]
  },
  {
   "cell_type": "code",
   "execution_count": 25,
   "id": "89a6d9a4",
   "metadata": {},
   "outputs": [
    {
     "name": "stdout",
     "output_type": "stream",
     "text": [
      "[25, 20, 35, 15, 15, 30, 45, 30]\n"
     ]
    }
   ],
   "source": [
    "# 6\n",
    "print(new_prices)"
   ]
  },
  {
   "cell_type": "code",
   "execution_count": 26,
   "id": "9d488c37",
   "metadata": {},
   "outputs": [],
   "source": [
    "# 7\n",
    "total_revenue = 0"
   ]
  },
  {
   "cell_type": "code",
   "execution_count": 27,
   "id": "c72391f9",
   "metadata": {},
   "outputs": [],
   "source": [
    "# 8 ~ 9\n",
    "for i in range(0, len(hairstyles)) :\n",
    "    total_revenue += prices[i] * last_week[i]"
   ]
  },
  {
   "cell_type": "code",
   "execution_count": 28,
   "id": "cc276c93",
   "metadata": {},
   "outputs": [
    {
     "name": "stdout",
     "output_type": "stream",
     "text": [
      "1085\n"
     ]
    }
   ],
   "source": [
    "# 10\n",
    "print(total_revenue)"
   ]
  },
  {
   "cell_type": "code",
   "execution_count": 29,
   "id": "660dfa3e",
   "metadata": {},
   "outputs": [
    {
     "name": "stdout",
     "output_type": "stream",
     "text": [
      "Average daily revenue is  155.0\n"
     ]
    }
   ],
   "source": [
    "# 11\n",
    "average_daily_revenue = total_revenue / 7\n",
    "print(\"Average daily revenue is \" , average_daily_revenue)"
   ]
  },
  {
   "cell_type": "code",
   "execution_count": 30,
   "id": "16c4cc37",
   "metadata": {},
   "outputs": [],
   "source": [
    "# 12\n",
    "# Carly thinks she can bring in more customers by advertising all of the haircuts she has that are under 30 dollars. \n",
    "# Use a list comprehension to create a list called cuts_under_30 that has the entry hairstyles[i] for each i for which new_prices[i] is less than 30. \n",
    "# You can use range() in your list comprehension to make i go from 0 to len(new_prices) -"
   ]
  },
  {
   "cell_type": "code",
   "execution_count": 31,
   "id": "a4d16de3",
   "metadata": {},
   "outputs": [],
   "source": [
    "# 12\n",
    "cuts_under_30 = [hairstyles[i] for i in range(0 , len(new_prices) - 1) \n",
    "                        if new_prices[i] < 30]"
   ]
  },
  {
   "cell_type": "code",
   "execution_count": 32,
   "id": "e99ef225",
   "metadata": {},
   "outputs": [
    {
     "name": "stdout",
     "output_type": "stream",
     "text": [
      "['bouffant', 'pixie', 'crew', 'bowl']\n"
     ]
    }
   ],
   "source": [
    "# Final\n",
    "print(cuts_under_30)"
   ]
  }
 ],
 "metadata": {
  "kernelspec": {
   "display_name": "Python 3 (ipykernel)",
   "language": "python",
   "name": "python3"
  },
  "language_info": {
   "codemirror_mode": {
    "name": "ipython",
    "version": 3
   },
   "file_extension": ".py",
   "mimetype": "text/x-python",
   "name": "python",
   "nbconvert_exporter": "python",
   "pygments_lexer": "ipython3",
   "version": "3.9.12"
  }
 },
 "nbformat": 4,
 "nbformat_minor": 5
}
