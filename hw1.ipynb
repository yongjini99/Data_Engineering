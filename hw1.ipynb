{
 "cells": [
  {
   "cell_type": "code",
   "execution_count": 12,
   "id": "618987f0",
   "metadata": {},
   "outputs": [],
   "source": [
    "# First - add in our first item, the Lovely Loveseat\n",
    "lovely_loveseat_description = \"Lovely Loveseat. Tufted polyester blend on wood. 32 inches high x 40 inches deep. Red or white.\"\n",
    "lovely_loveseat_price = 254.00"
   ]
  },
  {
   "cell_type": "code",
   "execution_count": 13,
   "id": "9035af1e",
   "metadata": {},
   "outputs": [],
   "source": [
    "# Second - extend our inventory with another characteristic piece of furniture!\n",
    "stylish_settee_description = \"Stylish Settee. Faux leather on birch. 29.50 inches high x 54.75 inches wide x 28 inches deep. Black.\"\n",
    "stylish_settee_price = 180.50"
   ]
  },
  {
   "cell_type": "code",
   "execution_count": 14,
   "id": "442cc41a",
   "metadata": {},
   "outputs": [],
   "source": [
    "# Third - Create a new variable called luxurious_lamp_description\n",
    "luxurious_lamp_description = \"Luxurious Lamp. Glass and iron. 36 inches tall. Brown with cream shade.\"\n",
    "luxurious_lamp_price = 52.15"
   ]
  },
  {
   "cell_type": "code",
   "execution_count": 15,
   "id": "63789b0d",
   "metadata": {},
   "outputs": [],
   "source": [
    "# Fourth - calculating sales tax\n",
    "sales_tax = .088"
   ]
  },
  {
   "cell_type": "code",
   "execution_count": 16,
   "id": "ca464a58",
   "metadata": {},
   "outputs": [],
   "source": [
    "# fifth 5 - list of the descriptions of things they’re purchasing\n",
    "customer_one_total = 0\n",
    "customer_one_itemization = \" \""
   ]
  },
  {
   "cell_type": "code",
   "execution_count": 17,
   "id": "05808510",
   "metadata": {},
   "outputs": [],
   "source": [
    "# sixth - Add the price to customer_one_total\n",
    "customer_one_total = customer_one_total + lovely_loveseat_price"
   ]
  },
  {
   "cell_type": "code",
   "execution_count": 18,
   "id": "2988bcb8",
   "metadata": {},
   "outputs": [],
   "source": [
    "# seventh - Add the description of the Lovely Loveseat to customer_one_itemization\n",
    "customer_one_itemization = lovely_loveseat_description"
   ]
  },
  {
   "cell_type": "code",
   "execution_count": 19,
   "id": "e9ab1f7a",
   "metadata": {},
   "outputs": [],
   "source": [
    "# eighth - add the price to the customer’s total.\n",
    "customer_one_total = (lovely_loveseat_price + luxurious_lamp_price)"
   ]
  },
  {
   "cell_type": "code",
   "execution_count": 20,
   "id": "99394ce7",
   "metadata": {},
   "outputs": [],
   "source": [
    "# ninth - keep the itemization up-to-date and add the description of the Luxurious Lamp\n",
    "customer_one_itemization = lovely_loveseat_description + luxurious_lamp_description"
   ]
  },
  {
   "cell_type": "code",
   "execution_count": 21,
   "id": "bb29f2ac",
   "metadata": {},
   "outputs": [],
   "source": [
    "# tenth - Create a variable\n",
    "customer_one_tax = customer_one_total * sales_tax"
   ]
  },
  {
   "cell_type": "code",
   "execution_count": 22,
   "id": "c5538e7a",
   "metadata": {},
   "outputs": [],
   "source": [
    "# eleven - sales tax to the customer’s total cost\n",
    "customer_one_total = customer_one_total + customer_one_tax"
   ]
  },
  {
   "cell_type": "code",
   "execution_count": 23,
   "id": "cb25a29e",
   "metadata": {},
   "outputs": [
    {
     "name": "stdout",
     "output_type": "stream",
     "text": [
      "Customer One Items : \n",
      "Lovely Loveseat. Tufted polyester blend on wood. 32 inches high x 40 inches deep. Red or white.Luxurious Lamp. Glass and iron. 36 inches tall. Brown with cream shade.\n",
      "Customer One Total : \n",
      "333.09119999999996\n"
     ]
    }
   ],
   "source": [
    "# final - created our catalog and served our first customer\n",
    "print(\"Customer One Items : \")\n",
    "print(customer_one_itemization)\n",
    "print(\"Customer One Total : \")\n",
    "print(customer_one_total)"
   ]
  }
 ],
 "metadata": {
  "kernelspec": {
   "display_name": "Python 3 (ipykernel)",
   "language": "python",
   "name": "python3"
  },
  "language_info": {
   "codemirror_mode": {
    "name": "ipython",
    "version": 3
   },
   "file_extension": ".py",
   "mimetype": "text/x-python",
   "name": "python",
   "nbconvert_exporter": "python",
   "pygments_lexer": "ipython3",
   "version": "3.9.7"
  }
 },
 "nbformat": 4,
 "nbformat_minor": 5
}
