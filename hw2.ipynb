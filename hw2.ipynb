{
 "cells": [
  {
   "cell_type": "code",
   "execution_count": 22,
   "id": "15ce70dc",
   "metadata": {},
   "outputs": [],
   "source": [
    "#first - Create a list called subjects\n",
    "\n",
    "subjects = [\"physics\", \"calculus\",\"poetry\",\"history\"]"
   ]
  },
  {
   "cell_type": "code",
   "execution_count": 23,
   "id": "6a023e2f",
   "metadata": {},
   "outputs": [],
   "source": [
    "#second - Create a list called grades\n",
    "\n",
    "grades = [98, 97, 85, 88]"
   ]
  },
  {
   "cell_type": "code",
   "execution_count": 24,
   "id": "24beb4aa",
   "metadata": {},
   "outputs": [
    {
     "name": "stdout",
     "output_type": "stream",
     "text": [
      "[['physics', 98], ['calculus', 97], ['poetry', 85], ['history', 88]]\n"
     ]
    }
   ],
   "source": [
    "# 3-4 = Manually (without any methods) create a two-dimensional list to combine subjects and grades\n",
    "\n",
    "gradebook = [[\"physics\", 98], [\"calculus\", 97],[\"poetry\", 85], [\"history\", 88]]\n",
    "print(gradebook)"
   ]
  },
  {
   "cell_type": "code",
   "execution_count": 25,
   "id": "af39d05f",
   "metadata": {},
   "outputs": [
    {
     "name": "stdout",
     "output_type": "stream",
     "text": [
      "[['physics', 98], ['calculus', 97], ['poetry', 85], ['history', 88], ['computer science', 100], ['visual arts', 93]]\n"
     ]
    }
   ],
   "source": [
    "# 5-6 = grade value of 100 to our two-dimensional list of gradebook + append to add [\"visual arts\", 93] to gradebook\n",
    "\n",
    "gradebook.append([\"computer science\", 100])\n",
    "gradebook.append([\"visual arts\", 93])\n",
    "print(gradebook)"
   ]
  },
  {
   "cell_type": "code",
   "execution_count": 26,
   "id": "4e74eac0",
   "metadata": {},
   "outputs": [
    {
     "name": "stdout",
     "output_type": "stream",
     "text": [
      "[['physics', 98], ['calculus', 97], ['poetry', 'pass'], ['history', 88], ['computer science', 100], ['visual arts', 98]]\n"
     ]
    }
   ],
   "source": [
    "# 7-9 = modify it to be 5 points greater + gradebook for your poetry class and use the .remove()\n",
    "\n",
    "gradebook[5][1] += 5\n",
    "gradebook[2].remove(85)\n",
    "gradebook[2].append(\"pass\")\n",
    "print(gradebook)"
   ]
  },
  {
   "cell_type": "code",
   "execution_count": 27,
   "id": "f8216995",
   "metadata": {},
   "outputs": [
    {
     "name": "stdout",
     "output_type": "stream",
     "text": [
      "[['politics', 80], ['latin', 96], ['dance', 97], ['architecture', 65], ['physics', 98], ['calculus', 97], ['poetry', 'pass'], ['history', 88], ['computer science', 100], ['visual arts', 98]]\n"
     ]
    }
   ],
   "source": [
    "# 10 =  grades from last semester, stored in last_semester_gradebook.\n",
    "\n",
    "last_semester_gradebook = [[\"politics\", 80], [\"latin\", 96], [\"dance\",97],[\"architecture\",65]]\n",
    "full_gradebook = last_semester_gradebook + gradebook\n",
    "print(full_gradebook)"
   ]
  }
 ],
 "metadata": {
  "kernelspec": {
   "display_name": "Python 3 (ipykernel)",
   "language": "python",
   "name": "python3"
  },
  "language_info": {
   "codemirror_mode": {
    "name": "ipython",
    "version": 3
   },
   "file_extension": ".py",
   "mimetype": "text/x-python",
   "name": "python",
   "nbconvert_exporter": "python",
   "pygments_lexer": "ipython3",
   "version": "3.9.7"
  }
 },
 "nbformat": 4,
 "nbformat_minor": 5
}
