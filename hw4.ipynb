{
 "cells": [
  {
   "cell_type": "code",
   "execution_count": 1,
   "id": "b3184690",
   "metadata": {},
   "outputs": [],
   "source": [
    "# First , Second , Thrid\n",
    "def get_my_chosun_name(family_name, month, day) :\n",
    "    a = ['쌍', '쇠', '복', '돌', '팽', '육', '쌍', '개', '칠', '갑', '삼', '방']\n",
    "    b = ['봉', '구', '욕', '포', '똥', '삼', '식', '석', '놈', '님', '년', '돌', '단', '득', '방', '질', '장', '걸', '래', '룡', '동', '순', '자', '박', '창', '언', '것', '포', '만', '단', '국']\n",
    "    \n",
    "    return family_name + a[month - 1] + b[day-1]"
   ]
  },
  {
   "cell_type": "code",
   "execution_count": 2,
   "id": "f4d31a7f",
   "metadata": {},
   "outputs": [
    {
     "name": "stdout",
     "output_type": "stream",
     "text": [
      "당신의 조선시대 이름은 주쌍년\n"
     ]
    }
   ],
   "source": [
    "print(\"당신의 조선시대 이름은 \" + get_my_chosun_name('주', 7, 11))"
   ]
  },
  {
   "cell_type": "code",
   "execution_count": null,
   "id": "3e032a4d",
   "metadata": {},
   "outputs": [],
   "source": [
    "# 주쌍년... 이게 맞나요? ,,, ㅠㅠ "
   ]
  }
 ],
 "metadata": {
  "kernelspec": {
   "display_name": "Python 3 (ipykernel)",
   "language": "python",
   "name": "python3"
  },
  "language_info": {
   "codemirror_mode": {
    "name": "ipython",
    "version": 3
   },
   "file_extension": ".py",
   "mimetype": "text/x-python",
   "name": "python",
   "nbconvert_exporter": "python",
   "pygments_lexer": "ipython3",
   "version": "3.9.12"
  }
 },
 "nbformat": 4,
 "nbformat_minor": 5
}
